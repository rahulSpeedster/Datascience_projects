{
 "cells": [
  {
   "cell_type": "markdown",
   "metadata": {},
   "source": [
    "movie"
   ]
  },
  {
   "cell_type": "code",
   "execution_count": 9,
   "metadata": {},
   "outputs": [
    {
     "name": "stdout",
     "output_type": "stream",
     "text": [
      "Collecting sklearn\n",
      "  Downloading sklearn-0.0.post12.tar.gz (2.6 kB)\n",
      "  Installing build dependencies: started\n",
      "  Installing build dependencies: finished with status 'done'\n",
      "  Getting requirements to build wheel: started\n",
      "  Getting requirements to build wheel: finished with status 'error'\n",
      "Note: you may need to restart the kernel to use updated packages.\n"
     ]
    },
    {
     "name": "stderr",
     "output_type": "stream",
     "text": [
      "  error: subprocess-exited-with-error\n",
      "  \n",
      "  × Getting requirements to build wheel did not run successfully.\n",
      "  │ exit code: 1\n",
      "  ╰─> [15 lines of output]\n",
      "      The 'sklearn' PyPI package is deprecated, use 'scikit-learn'\n",
      "      rather than 'sklearn' for pip commands.\n",
      "      \n",
      "      Here is how to fix this error in the main use cases:\n",
      "      - use 'pip install scikit-learn' rather than 'pip install sklearn'\n",
      "      - replace 'sklearn' by 'scikit-learn' in your pip requirements files\n",
      "        (requirements.txt, setup.py, setup.cfg, Pipfile, etc ...)\n",
      "      - if the 'sklearn' package is used by one of your dependencies,\n",
      "        it would be great if you take some time to track which package uses\n",
      "        'sklearn' instead of 'scikit-learn' and report it to their issue tracker\n",
      "      - as a last resort, set the environment variable\n",
      "        SKLEARN_ALLOW_DEPRECATED_SKLEARN_PACKAGE_INSTALL=True to avoid this error\n",
      "      \n",
      "      More information is available at\n",
      "      https://github.com/scikit-learn/sklearn-pypi-package\n",
      "      [end of output]\n",
      "  \n",
      "  note: This error originates from a subprocess, and is likely not a problem with pip.\n",
      "\n",
      "[notice] A new release of pip is available: 24.2 -> 24.3.1\n",
      "[notice] To update, run: python.exe -m pip install --upgrade pip\n",
      "error: subprocess-exited-with-error\n",
      "\n",
      "× Getting requirements to build wheel did not run successfully.\n",
      "│ exit code: 1\n",
      "╰─> See above for output.\n",
      "\n",
      "note: This error originates from a subprocess, and is likely not a problem with pip.\n"
     ]
    }
   ],
   "source": [
    "pip install sklearn "
   ]
  },
  {
   "cell_type": "code",
   "execution_count": 1,
   "metadata": {},
   "outputs": [
    {
     "ename": "ModuleNotFoundError",
     "evalue": "No module named 'sklearn'",
     "output_type": "error",
     "traceback": [
      "\u001b[1;31m---------------------------------------------------------------------------\u001b[0m",
      "\u001b[1;31mModuleNotFoundError\u001b[0m                       Traceback (most recent call last)",
      "Cell \u001b[1;32mIn[1], line 4\u001b[0m\n\u001b[0;32m      2\u001b[0m \u001b[38;5;28;01mimport\u001b[39;00m \u001b[38;5;21;01mpandas\u001b[39;00m \u001b[38;5;28;01mas\u001b[39;00m \u001b[38;5;21;01mpd\u001b[39;00m\n\u001b[0;32m      3\u001b[0m \u001b[38;5;28;01mimport\u001b[39;00m \u001b[38;5;21;01mnumpy\u001b[39;00m \u001b[38;5;28;01mas\u001b[39;00m \u001b[38;5;21;01mnp\u001b[39;00m\n\u001b[1;32m----> 4\u001b[0m \u001b[38;5;28;01mfrom\u001b[39;00m \u001b[38;5;21;01msklearn\u001b[39;00m\u001b[38;5;21;01m.\u001b[39;00m\u001b[38;5;21;01mmodel_selection\u001b[39;00m \u001b[38;5;28;01mimport\u001b[39;00m train_test_split\n\u001b[0;32m      5\u001b[0m \u001b[38;5;28;01mfrom\u001b[39;00m \u001b[38;5;21;01msurprise\u001b[39;00m \u001b[38;5;28;01mimport\u001b[39;00m SVD\n\u001b[0;32m      6\u001b[0m \u001b[38;5;28;01mfrom\u001b[39;00m \u001b[38;5;21;01msurprise\u001b[39;00m \u001b[38;5;28;01mimport\u001b[39;00m Dataset, Reader\n",
      "\u001b[1;31mModuleNotFoundError\u001b[0m: No module named 'sklearn'"
     ]
    }
   ],
   "source": [
    "# Importing necessary libraries\n",
    "import pandas as pd\n",
    "import numpy as np\n",
    "from sklearn.model_selection import train_test_split\n",
    "from surprise import SVD\n",
    "from surprise import Dataset, Reader\n",
    "from surprise.model_selection import cross_validate\n",
    "import seaborn as sns\n",
    "import matplotlib.pyplot as plt\n",
    "\n",
    "# Step 1: Load the datasets\n",
    "movies_metadata = pd.read_csv('/mnt/data/movies_metadata.csv', low_memory=False)\n",
    "ratings_small = pd.read_csv('/mnt/data/ratings_small.csv')\n",
    "keywords = pd.read_csv('/mnt/data/keywords.csv')\n",
    "links = pd.read_csv('/mnt/data/links.csv')\n",
    "credits = pd.read_csv('/mnt/data/credits.csv')\n",
    "# You can load the larger ratings dataset later if needed\n",
    "\n",
    "# Step 2: Data Preprocessing\n",
    "# Merging datasets\n",
    "links['tmdbId'] = links['tmdbId'].fillna(0).astype(int)\n",
    "movies_metadata['id'] = movies_metadata['id'].fillna(0).astype(str)\n",
    "\n",
    "# Merge movies_metadata with credits and keywords\n",
    "movies_metadata = movies_metadata.merge(credits, left_on='id', right_on='id', how='left')\n",
    "movies_metadata = movies_metadata.merge(keywords, left_on='id', right_on='id', how='left')\n",
    "\n",
    "# Keep relevant columns for recommendation\n",
    "movies = movies_metadata[['id', 'title', 'genres', 'cast', 'crew', 'keywords', 'vote_average', 'vote_count']]\n",
    "\n",
    "# Filter movies with sufficient votes for quality\n",
    "movies = movies[movies['vote_count'] > 50]\n",
    "\n",
    "# Step 3: Exploratory Data Analysis (EDA)\n",
    "# Plot rating distribution\n",
    "plt.figure(figsize=(10, 5))\n",
    "sns.histplot(ratings_small['rating'], bins=10, kde=True, color='blue')\n",
    "plt.title('Distribution of Ratings')\n",
    "plt.xlabel('Rating')\n",
    "plt.ylabel('Frequency')\n",
    "plt.show()\n",
    "\n",
    "# Step 4: Build Recommender System\n",
    "# Convert ratings_small into Surprise dataset\n",
    "reader = Reader(rating_scale=(0.5, 5.0))\n",
    "data = Dataset.load_from_df(ratings_small[['userId', 'movieId', 'rating']], reader)\n",
    "\n",
    "# Train a Collaborative Filtering model (SVD)\n",
    "trainset, testset = train_test_split(data.build_full_trainset().build_testset(), test_size=0.2, random_state=42)\n",
    "\n",
    "# Initialize SVD and train\n",
    "model = SVD()\n",
    "cross_validate(model, data, measures=['RMSE', 'MAE'], cv=3, verbose=True)\n",
    "\n",
    "# Step 5: Make Predictions\n",
    "# Example: Predict for a specific user and movie\n",
    "user_id = 1  # Example user ID\n",
    "movie_id = 31  # Example movie ID\n",
    "prediction = model.predict(uid=user_id, iid=movie_id)\n",
    "print(f\"Predicted rating for User {user_id} on Movie {movie_id}: {prediction.est}\")\n",
    "\n",
    "# Step 6: Recommend Movies\n",
    "# Function to recommend movies\n",
    "def recommend_movies(user_id, model, data, top_n=10):\n",
    "    # Get all movie IDs\n",
    "    movie_ids = ratings_small['movieId'].unique()\n",
    "    user_rated_movies = ratings_small[ratings_small['userId'] == user_id]['movieId']\n",
    "    unrated_movies = [movie for movie in movie_ids if movie not in user_rated_movies]\n",
    "\n",
    "    # Predict ratings for all unrated movies\n",
    "    predictions = [model.predict(user_id, movie_id) for movie_id in unrated_movies]\n",
    "    predictions.sort(key=lambda x: x.est, reverse=True)\n",
    "\n",
    "    # Return top N recommendations\n",
    "    top_predictions = predictions[:top_n]\n",
    "    recommended_movies = [(pred.iid, pred.est) for pred in top_predictions]\n",
    "    return recommended_movies\n",
    "\n",
    "# Get recommendations for a user\n",
    "recommended_movies = recommend_movies(user_id=1, model=model, data=data)\n",
    "print(\"Recommended Movies:\", recommended_movies)\n",
    "\n",
    "# Step 7: Deployment\n",
    "# Save the model or create a Flask application for deployment (not covered here)\n"
   ]
  },
  {
   "cell_type": "code",
   "execution_count": null,
   "metadata": {},
   "outputs": [],
   "source": []
  },
  {
   "cell_type": "code",
   "execution_count": null,
   "metadata": {},
   "outputs": [],
   "source": []
  },
  {
   "cell_type": "code",
   "execution_count": null,
   "metadata": {},
   "outputs": [],
   "source": []
  }
 ],
 "metadata": {
  "kernelspec": {
   "display_name": "Python 3",
   "language": "python",
   "name": "python3"
  },
  "language_info": {
   "codemirror_mode": {
    "name": "ipython",
    "version": 3
   },
   "file_extension": ".py",
   "mimetype": "text/x-python",
   "name": "python",
   "nbconvert_exporter": "python",
   "pygments_lexer": "ipython3",
   "version": "3.10.8"
  }
 },
 "nbformat": 4,
 "nbformat_minor": 2
}
